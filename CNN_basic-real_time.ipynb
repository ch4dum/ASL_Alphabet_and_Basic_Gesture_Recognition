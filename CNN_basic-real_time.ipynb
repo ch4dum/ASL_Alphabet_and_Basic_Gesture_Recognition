{
 "cells": [
  {
   "cell_type": "code",
   "execution_count": 1,
   "metadata": {},
   "outputs": [],
   "source": [
    "import keras\n",
    "import cv2\n",
    "import numpy as np\n",
    "from tensorflow.keras.utils import img_to_array\n",
    "import imutils\n",
    "import os"
   ]
  },
  {
   "cell_type": "code",
   "execution_count": 2,
   "metadata": {},
   "outputs": [
    {
     "name": "stderr",
     "output_type": "stream",
     "text": [
      "WARNING:absl:Compiled the loaded model, but the compiled metrics have yet to be built. `model.compile_metrics` will be empty until you train or evaluate the model.\n"
     ]
    }
   ],
   "source": [
    "\n",
    "alphabet=['Hello', 'IloveYou', 'No','Please', 'Thank', 'Yes']\n",
    "\n",
    "model = keras.models.load_model('CNN_basic.h5')"
   ]
  },
  {
   "cell_type": "code",
   "execution_count": 3,
   "metadata": {},
   "outputs": [],
   "source": [
    "def classify(image):\n",
    "    image = cv2.resize(image, (64, 64))\n",
    "    image = image.astype(\"float\") / 255.0\n",
    "    image = img_to_array(image) \n",
    "    image = np.expand_dims(image, axis=0) \n",
    "    proba = model.predict(image, verbose=0)\n",
    "    idx = np.argmax(proba)\n",
    "    confidence = np.max(proba)\n",
    "    return alphabet[idx], confidence"
   ]
  },
  {
   "cell_type": "code",
   "execution_count": 4,
   "metadata": {},
   "outputs": [],
   "source": [
    "import cv2\n",
    "import numpy as np\n",
    "from tensorflow.keras.models import load_model\n",
    "from tensorflow.keras.utils import img_to_array\n",
    "\n",
    "cap = cv2.VideoCapture(0)\n",
    "\n",
    "while True:\n",
    "    ret, frame = cap.read()\n",
    "    if not ret:\n",
    "        break\n",
    "\n",
    "    frame = cv2.flip(frame, 1)\n",
    "\n",
    "    top, right, bottom, left = 75, 350, 300, 590\n",
    "    roi = frame[top:bottom, right:left]\n",
    "    roi = cv2.flip(roi, 1)\n",
    "\n",
    "    try:\n",
    "        predicted_letter, confidence = classify(roi)\n",
    "        if confidence < 0.6:\n",
    "            predicted_letter = \"?\"\n",
    "    except:\n",
    "        predicted_letter = \"?\"\n",
    "\n",
    "    cv2.rectangle(frame, (left, top), (right, bottom), (0, 255, 0), 2)\n",
    "    cv2.putText(frame, predicted_letter, (50, 50),\n",
    "                cv2.FONT_HERSHEY_SIMPLEX, 2, (0, 0, 255), 3)\n",
    "\n",
    "    cv2.imshow(\"Webcam\", frame)\n",
    "    cv2.imshow(\"ROI\", roi)\n",
    "\n",
    "    if cv2.waitKey(1) & 0xFF == ord('q'):\n",
    "        break\n",
    "\n",
    "cap.release()\n",
    "cv2.destroyAllWindows()\n"
   ]
  }
 ],
 "metadata": {
  "kernelspec": {
   "display_name": "Python 3",
   "language": "python",
   "name": "python3"
  },
  "language_info": {
   "codemirror_mode": {
    "name": "ipython",
    "version": 3
   },
   "file_extension": ".py",
   "mimetype": "text/x-python",
   "name": "python",
   "nbconvert_exporter": "python",
   "pygments_lexer": "ipython3",
   "version": "3.10.8"
  }
 },
 "nbformat": 4,
 "nbformat_minor": 2
}
